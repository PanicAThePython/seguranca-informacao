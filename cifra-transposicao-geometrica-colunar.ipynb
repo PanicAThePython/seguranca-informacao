{
  "nbformat": 4,
  "nbformat_minor": 0,
  "metadata": {
    "colab": {
      "provenance": []
    },
    "kernelspec": {
      "name": "python3",
      "display_name": "Python 3"
    },
    "language_info": {
      "name": "python"
    }
  },
  "cells": [
    {
      "cell_type": "code",
      "execution_count": 48,
      "metadata": {
        "colab": {
          "base_uri": "https://localhost:8080/"
        },
        "id": "16_EY1JsiRMF",
        "outputId": "1ad238ec-d0f8-4c88-a9cc-b571ee3abf0b"
      },
      "outputs": [
        {
          "output_type": "stream",
          "name": "stdout",
          "text": [
            "Você deseja cifrar (C) ou decifrar(D)? Insira D ou C:c\n",
            "Entre com a frase alvo:VAMOS ATACAR O SUL NO FINAL DESTA SEMANA\n",
            "Entre a quantidade de colunas: 9\n",
            "a cifra é:\n",
            " VAISARNEMOAMOSLASUDNALEATNSXAOTXCFAX\n"
          ]
        }
      ],
      "source": [
        "### Alunos: Matheus Petters Bevilaqua e Natália Sens Weise\n",
        "\n",
        "### Algoritmo da cifra de transposição geométrica colunar\n",
        "import math\n",
        "\n",
        "opcao = str(input('Você deseja cifrar (C) ou decifrar(D)? Insira D ou C:'))\n",
        "frase = str(input('Entre com a frase alvo:'))\n",
        "cols  = int(input('Entre a quantidade de colunas: '))\n",
        "\n",
        "tratamento = frase.replace(' ','')\n",
        "total = len(tratamento)\n",
        "linhas = int(math.ceil(total/cols))\n",
        "matriz = []\n",
        "\n",
        "for i in range(linhas):\n",
        "  matriz.append([])\n",
        "  for j in range(cols):\n",
        "    matriz[i].append('')\n",
        "\n",
        "cont = 0\n",
        "\n",
        "\n",
        "#cifrando\n",
        "if(opcao == 'c' or opcao == 'C'):\n",
        "  for i in range(linhas):\n",
        "    for j in range(cols):\n",
        "      if (cont >= total):\n",
        "        matriz[i][j] = 'X'\n",
        "      elif (cont < total):\n",
        "        matriz[i][j] = tratamento[cont]\n",
        "        cont += 1\n",
        "\n",
        "  cifra = ''\n",
        "  for i in range(cols):\n",
        "    for j in range(linhas):\n",
        "      cifra += matriz[j][i]\n",
        "\n",
        "  print('a cifra é:\\n',cifra)\n",
        "\n",
        "#decifrando\n",
        "elif (opcao == 'd' or opcao == 'D'):\n",
        "  for i in range(cols):\n",
        "    for j in range(linhas):\n",
        "      if (cont >= total):\n",
        "        matriz[i][j] = 'X'\n",
        "      elif (cont < total):\n",
        "        matriz[j][i] = tratamento[cont]\n",
        "        cont += 1\n",
        "\n",
        "  decifra = ''\n",
        "  print\n",
        "  for i in range(linhas):\n",
        "    for j in range(cols):\n",
        "      decifra += matriz[i][j]\n",
        "\n",
        "  print('a frase decifrada é:\\n',decifra)\n",
        "\n",
        "#opcao invalida\n",
        "else:\n",
        "  print(\"opção inválida\")\n",
        "\n",
        "# amongus qw - 4\n",
        "# agqmuXosXnwX\n"
      ]
    },
    {
      "cell_type": "markdown",
      "source": [
        "Você deseja cifrar (C) ou decifrar(D)? Insira D ou C:d\n",
        "\n",
        "Entre com a frase alvo:VAISARNEMOAMOSLASUDNALEATNSXAOTXCFAX\n",
        "\n",
        "Entre a quantidade de colunas: 9\n",
        "\n",
        "a frase decifrada é:\n",
        " VAMOSATACAROSULNOFINALDESTASEMANAXXX"
      ],
      "metadata": {
        "id": "WDqX24x5kINI"
      }
    },
    {
      "cell_type": "code",
      "source": [
        "### Alunos: Matheus Petters Bevilaqua e Natália Sens Weise\n",
        "\n",
        "### Algoritmo da cifra do cerco ferroviário\n",
        "import math\n",
        "\n",
        "opcao = str(input('Você deseja cifrar (C) ou decifrar(D)? Insira D ou C:'))\n",
        "frase = str(input('Entre com uma frase para cifrar:'))\n",
        "trilhos  = int(input('Entre a quantidade de trilhos/linhas: '))\n",
        "\n",
        "tratamento = frase.replace(' ','')\n",
        "total = len(tratamento)\n",
        "matriz = []\n",
        "\n",
        "for i in range(trilhos):\n",
        "  matriz.append([])\n",
        "  for j in range(total):\n",
        "    matriz[i].append('.')\n",
        "\n",
        "  cont = 0\n",
        "  teste = trilhos+1\n",
        "\n",
        "  sentido = True\n",
        "  cont = 1\n",
        "  aux = 1\n",
        "#criptando\n",
        "if(opcao == 'c' or opcao == 'C'):\n",
        "  matriz[0][0] = tratamento[0]\n",
        "  while cont<total:\n",
        "    letra = tratamento[cont]\n",
        "    matriz[aux][cont] = letra\n",
        "    cont+=1\n",
        "    if (aux == 0 or aux == (trilhos-1)):\n",
        "      sentido = not sentido\n",
        "    if sentido:\n",
        "      aux+=1\n",
        "    else:\n",
        "      aux-=1\n",
        "\n",
        "  for i in matriz:\n",
        "    print(i)\n",
        "\n",
        "  cifra = ''\n",
        "  for i in range(trilhos):\n",
        "    cifra+= (''.join(matriz[i]))\n",
        "\n",
        "  cifra = cifra.replace('.','')\n",
        "  print(cifra)\n",
        "\n",
        "# decriptando\n",
        "elif(opcao == 'd' or opcao == 'D'): \n",
        "  matriz[0][0] = '@'\n",
        "  while cont<total:\n",
        "    matriz[aux][cont] = '@'\n",
        "    cont+=1\n",
        "    if (aux == 0 or aux == (trilhos-1)):\n",
        "      sentido = not sentido\n",
        "    if sentido:\n",
        "      aux+=1\n",
        "    else:\n",
        "      aux-=1\n",
        "\n",
        "  index = 0\n",
        "  for i in range(trilhos):\n",
        "    for j in range(total):\n",
        "      if matriz[i][j] == '@':\n",
        "        matriz[i][j] = tratamento[index]\n",
        "        index+=1\n",
        "\n",
        "  sentido = True\n",
        "  cont = 1\n",
        "  aux = 1\n",
        "  resposta = ''\n",
        "  resposta+=matriz[0][0]\n",
        "\n",
        "  while cont<total:\n",
        "    resposta+=matriz[aux][cont]\n",
        "    if (aux == 0 or aux == (trilhos-1)):\n",
        "      sentido = not sentido\n",
        "    if sentido:\n",
        "      aux+=1\n",
        "    else:\n",
        "      aux-=1\n",
        "    cont+=1\n",
        "\n",
        "  print(resposta)\n",
        "\n",
        "else: \n",
        "  print(\"opcao inválida\")\n"
      ],
      "metadata": {
        "id": "PB8VkJX-tWsn",
        "colab": {
          "base_uri": "https://localhost:8080/"
        },
        "outputId": "4f51e87a-4d4b-4ed3-eb6c-eaf80069f706"
      },
      "execution_count": 45,
      "outputs": [
        {
          "output_type": "stream",
          "name": "stdout",
          "text": [
            "Você deseja cifrar (C) ou decifrar(D)? Insira D ou C:c\n",
            "Entre com uma frase para cifrar:VAMOS INVADIR O SUL AMANHA\n",
            "Entre a quantidade de trilhos/linhas: 3\n",
            "['V', '.', '.', '.', 'S', '.', '.', '.', 'A', '.', '.', '.', 'O', '.', '.', '.', 'A', '.', '.', '.', 'H', '.']\n",
            "['.', 'A', '.', 'O', '.', 'I', '.', 'V', '.', 'D', '.', 'R', '.', 'S', '.', 'L', '.', 'M', '.', 'N', '.', 'A']\n",
            "['.', '.', 'M', '.', '.', '.', 'N', '.', '.', '.', 'I', '.', '.', '.', 'U', '.', '.', '.', 'A', '.', '.', '.']\n",
            "VSAOAHAOIVDRSLMNAMNIUA\n"
          ]
        }
      ]
    },
    {
      "cell_type": "markdown",
      "source": [
        "Você deseja cifrar (C) ou decifrar(D)? Insira D ou C:d\n",
        "\n",
        "Entre com uma frase para cifrar:VSAOAHAOIVDRSLMNAMNIUA\n",
        "\n",
        "Entre a quantidade de trilhos/linhas: 3\n",
        "VAMOSINVADIROSULAMANHA"
      ],
      "metadata": {
        "id": "BvC3dyzRiF_I"
      }
    }
  ]
}